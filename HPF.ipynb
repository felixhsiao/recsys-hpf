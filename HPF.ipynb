{
 "cells": [
  {
   "cell_type": "markdown",
   "metadata": {},
   "source": [
    "# Merge required data"
   ]
  },
  {
   "cell_type": "code",
   "execution_count": 1,
   "metadata": {},
   "outputs": [],
   "source": [
    "import pandas as pd\n",
    "import os\n",
    "\n",
    "cols = [\"userID\", \"movieID\", \"rating\"]\n",
    "ratings = pd.read_table(\"movielens-2k/user_ratedmovies.dat\", usecols=cols)\n",
    "\n",
    "ratings[\"userID\"] = ratings.userID#.astype(\"category\").cat.codes\n",
    "ratings[\"movieID\"] = ratings.movieID#.astype(\"category\").cat.codes\n",
    "ratings.sort_values(by=[\"userID\", \"movieID\"], inplace=True)"
   ]
  },
  {
   "cell_type": "code",
   "execution_count": 2,
   "metadata": {},
   "outputs": [],
   "source": [
    "cols = [\"id\", \"title\", \"year\", \"imdbPictureURL\"]\n",
    "movies = pd.read_table(\"movielens-2k/movies.dat\", usecols=cols, encoding=\"latin-1\")\n",
    "movies[\"movieID\"] = movies.id#.astype(\"category\").cat.codes\n",
    "movies = movies.drop(\"id\", axis=1)\n",
    "movies.sort_values(by=\"movieID\", inplace=True)"
   ]
  },
  {
   "cell_type": "code",
   "execution_count": 3,
   "metadata": {},
   "outputs": [],
   "source": [
    "genres = pd.read_table(\"movielens-2k/movie_genres.dat\")\n",
    "\n",
    "concat = lambda a: \", \".join(a)\n",
    "\n",
    "genres = genres.groupby(by=\"movieID\", as_index=False).agg(concat)\n",
    "genres[\"movieID\"] = genres.movieID#.astype(\"category\").cat.codes\n",
    "genres.reset_index(inplace=True)\n",
    "genres.drop([\"index\"], axis=1, inplace=True)\n",
    "genres.sort_values(by=\"movieID\", inplace=True)"
   ]
  },
  {
   "cell_type": "code",
   "execution_count": 4,
   "metadata": {},
   "outputs": [],
   "source": [
    "pd_movies = ratings\\\n",
    "    .merge(movies, on=\"movieID\")\\\n",
    "    .merge(genres, on=\"movieID\")\\\n",
    "    .dropna(axis=0)\n",
    "pd_movies.sort_values(by=[\"userID\", \"movieID\"], inplace=True)\n",
    "pd_movies.to_csv(\"data/movies.csv.bz2\", encoding=\"UTF-8\", compression=\"bz2\", index=False)"
   ]
  },
  {
   "cell_type": "code",
   "execution_count": 5,
   "metadata": {},
   "outputs": [],
   "source": [
    "pd_movies[\"userID\"] = pd_movies.userID.astype('category').cat.codes\n",
    "pd_movies['movieID'] = pd_movies.movieID.astype('category').cat.codes"
   ]
  },
  {
   "cell_type": "code",
   "execution_count": 6,
   "metadata": {},
   "outputs": [],
   "source": [
    "pd_movies.reset_index(inplace=True, drop=True)"
   ]
  },
  {
   "cell_type": "code",
   "execution_count": 7,
   "metadata": {},
   "outputs": [],
   "source": [
    "pd_movies.to_csv(\"data/movies.csv.bz2\", encoding=\"UTF-8\", compression=\"bz2\", index=False)"
   ]
  },
  {
   "cell_type": "markdown",
   "metadata": {},
   "source": [
    "# Preprocessing data for HPF model"
   ]
  },
  {
   "cell_type": "code",
   "execution_count": 8,
   "metadata": {},
   "outputs": [],
   "source": [
    "import numpy as np\n",
    "import pandas as pd"
   ]
  },
  {
   "cell_type": "code",
   "execution_count": 9,
   "metadata": {},
   "outputs": [],
   "source": [
    "movies_all = pd_movies\n",
    "movies = movies_all[[\"userID\", \"movieID\", \"rating\"]]"
   ]
  },
  {
   "cell_type": "code",
   "execution_count": 10,
   "metadata": {},
   "outputs": [],
   "source": [
    "# cols = [\"userID\", \"movieID\", \"rating\"]\n",
    "# movies_all = pd.read_csv(\"data/movies.csv.bz2\")\n",
    "# # movies = pd.read_csv(\"data/movies.csv.bz2\", usecols=cols)\n",
    "# movies = movies_all[cols]\n",
    "# movies.head()"
   ]
  },
  {
   "cell_type": "code",
   "execution_count": 11,
   "metadata": {},
   "outputs": [],
   "source": [
    "rating_table = movies.pivot_table(index=\"userID\", values=\"rating\", columns=\"movieID\", fill_value=0)\n",
    "rating = rating_table.values"
   ]
  },
  {
   "cell_type": "markdown",
   "metadata": {},
   "source": [
    "## Compare ratings with author's result"
   ]
  },
  {
   "cell_type": "code",
   "execution_count": 12,
   "metadata": {},
   "outputs": [],
   "source": [
    "np.savetxt(\"data/ratings.txt.gz\", rating, fmt=\"%.1f\")"
   ]
  },
  {
   "cell_type": "markdown",
   "metadata": {},
   "source": [
    "# Compare data used to modeling with author's result"
   ]
  },
  {
   "cell_type": "code",
   "execution_count": 13,
   "metadata": {},
   "outputs": [],
   "source": [
    "pd_movies_org = pd.read_csv(\"../recsys-hpf-master/data/movies.csv.bz2\")\n",
    "rating_org = np.loadtxt(\"../recsys-hpf-master/data/ratings.txt.gz\", dtype=np.float32)"
   ]
  },
  {
   "cell_type": "code",
   "execution_count": 14,
   "metadata": {},
   "outputs": [
    {
     "data": {
      "text/plain": [
       "True"
      ]
     },
     "execution_count": 14,
     "metadata": {},
     "output_type": "execute_result"
    }
   ],
   "source": [
    "pd.concat([pd_movies, pd_movies_org]).drop_duplicates(keep=False).shape[0]==0"
   ]
  },
  {
   "cell_type": "code",
   "execution_count": 15,
   "metadata": {},
   "outputs": [
    {
     "data": {
      "text/plain": [
       "True"
      ]
     },
     "execution_count": 15,
     "metadata": {},
     "output_type": "execute_result"
    }
   ],
   "source": [
    "np.array_equal(rating, rating_org)"
   ]
  },
  {
   "cell_type": "markdown",
   "metadata": {},
   "source": [
    "# HPF modeling"
   ]
  },
  {
   "cell_type": "code",
   "execution_count": 16,
   "metadata": {},
   "outputs": [],
   "source": [
    "%matplotlib inline\n",
    "\n",
    "import numpy as np\n",
    "import edward as ed\n",
    "import tensorflow as tf\n",
    "import matplotlib.pyplot as plt"
   ]
  },
  {
   "cell_type": "code",
   "execution_count": 17,
   "metadata": {},
   "outputs": [],
   "source": [
    "seed = 42\n",
    "ed.set_seed(seed)\n",
    "plt.style.use(\"ggplot\")\n",
    "fname = \"data/ratings.txt.gz\""
   ]
  },
  {
   "cell_type": "markdown",
   "metadata": {},
   "source": [
    "## Data"
   ]
  },
  {
   "cell_type": "code",
   "execution_count": 18,
   "metadata": {},
   "outputs": [
    {
     "name": "stdout",
     "output_type": "stream",
     "text": [
      "2113 9936\n"
     ]
    }
   ],
   "source": [
    "# data = np.loadtxt(fname, dtype=np.float32)\n",
    "data = rating\n",
    "idx = data.nonzero()\n",
    "tidx = tf.constant(np.column_stack(idx))\n",
    "y = data[idx]\n",
    "n,m = data.shape\n",
    "%xdel data\n",
    "y = np.ceil(y)\n",
    "print(n,m)"
   ]
  },
  {
   "cell_type": "code",
   "execution_count": 19,
   "metadata": {},
   "outputs": [
    {
     "name": "stdout",
     "output_type": "stream",
     "text": [
      "2113 9936\n"
     ]
    }
   ],
   "source": [
    "data_org = np.loadtxt(\"data/ratings.txt.gz\", dtype=np.float32)\n",
    "idx = data_org.nonzero()\n",
    "tidx = tf.constant(np.column_stack(idx))\n",
    "y_org = data_org[idx]\n",
    "n,m = data_org.shape\n",
    "%xdel data_org\n",
    "y_org = np.ceil(y_org)\n",
    "print(n,m)"
   ]
  },
  {
   "cell_type": "code",
   "execution_count": 20,
   "metadata": {},
   "outputs": [
    {
     "data": {
      "text/plain": [
       "True"
      ]
     },
     "execution_count": 20,
     "metadata": {},
     "output_type": "execute_result"
    }
   ],
   "source": [
    "np.array_equal(y, y_org)"
   ]
  },
  {
   "cell_type": "markdown",
   "metadata": {},
   "source": [
    "## Model"
   ]
  },
  {
   "cell_type": "code",
   "execution_count": 21,
   "metadata": {},
   "outputs": [],
   "source": [
    "from edward.models import Poisson, Gamma\n",
    "from edward.models import PointMass, Empirical"
   ]
  },
  {
   "cell_type": "code",
   "execution_count": 22,
   "metadata": {},
   "outputs": [],
   "source": [
    "k = 20\n",
    "n_iter = 500\n",
    "t = 500\n",
    "\n",
    "#### Priors ####\n",
    "\n",
    "act = Gamma(1.0, 1.0, sample_shape=n) # Users activity (ξ_u)\n",
    "pref = Gamma(1.0, act, sample_shape=k) # Users preference (θ_uk)\n",
    "\n",
    "pop = Gamma(0.3, 0.3, sample_shape=m) # Items popularity (η_i)\n",
    "attr = Gamma(1.0, pop, sample_shape=k) # Items attribute (β_ik)\n",
    "\n",
    "like = Poisson(tf.gather_nd(tf.matmul(pref, attr, transpose_a=True), tidx)) # y_ui\n",
    "\n",
    "\n",
    "#### Posteriors ####\n",
    "\n",
    "qact = Empirical(\n",
    "    tf.nn.softplus(tf.Variable(tf.random_normal([t,n]))),\n",
    ")\n",
    "qpref = PointMass(\n",
    "    tf.nn.softplus(tf.Variable(tf.random_normal([k,n]))),\n",
    ")\n",
    "qpop = Empirical(\n",
    "    tf.nn.softplus(tf.Variable(tf.random_normal([t,m]))),\n",
    ")\n",
    "qattr = PointMass(\n",
    "    tf.nn.softplus(tf.Variable(tf.random_normal([k,m]))),\n",
    ")"
   ]
  },
  {
   "cell_type": "markdown",
   "metadata": {},
   "source": [
    "## Inference"
   ]
  },
  {
   "cell_type": "code",
   "execution_count": 23,
   "metadata": {},
   "outputs": [
    {
     "name": "stderr",
     "output_type": "stream",
     "text": [
      "/Users/felix/.virtualenvs/HPF/src/edward/edward/util/random_variables.py:52: FutureWarning: Conversion of the second argument of issubdtype from `float` to `np.floating` is deprecated. In future, it will be treated as `np.float64 == np.dtype(float).type`.\n",
      "  not np.issubdtype(value.dtype, np.float) and \\\n"
     ]
    }
   ],
   "source": [
    "inference_e = ed.Gibbs(\n",
    "    {act:qact, pop:qpop}, \n",
    "    data={like:y, pref:qpref, attr:qattr},\n",
    ")\n",
    "\n",
    "inference_m = ed.MAP(\n",
    "    {pref:qpref, attr:qattr},\n",
    "    data={like:y, act:qact, pop:qpop},\n",
    ")\n",
    "\n",
    "inference_e.initialize()\n",
    "inference_m.initialize(n_iter=n_iter, optimizer=\"rmsprop\")\n",
    "\n",
    "tf.global_variables_initializer().run()"
   ]
  },
  {
   "cell_type": "code",
   "execution_count": null,
   "metadata": {},
   "outputs": [
    {
     "name": "stdout",
     "output_type": "stream",
     "text": [
      "405/500 [ 81%] ████████████████████████       ETA: 22s | Loss: 1575262.625"
     ]
    }
   ],
   "source": [
    "loss = np.empty(n_iter, dtype=np.float32)\n",
    "\n",
    "for i in range(n_iter):\n",
    "    info_dict_e = inference_e.update()\n",
    "    info_dict_m = inference_m.update()\n",
    "    \n",
    "    loss[i] = info_dict_m[\"loss\"]\n",
    "    \n",
    "    inference_m.print_progress(info_dict_m)"
   ]
  },
  {
   "cell_type": "code",
   "execution_count": null,
   "metadata": {},
   "outputs": [],
   "source": [
    "fig = plt.figure(figsize=(15,6))\n",
    "ax = fig.add_subplot(111)\n",
    "ax.plot(loss / loss.max())\n",
    "ax.set_title(\"Loss\")\n",
    "ax.set_xlabel(\"Iteration\")\n",
    "fig.savefig(\"images/loss.png\", transparent=True)"
   ]
  },
  {
   "cell_type": "markdown",
   "metadata": {},
   "source": [
    "## Save"
   ]
  },
  {
   "cell_type": "code",
   "execution_count": null,
   "metadata": {},
   "outputs": [],
   "source": [
    "sess = ed.get_session()"
   ]
  },
  {
   "cell_type": "code",
   "execution_count": null,
   "metadata": {},
   "outputs": [],
   "source": [
    "pref_0=sess.run(qpref)\n",
    "attr_0=sess.run(qattr)"
   ]
  },
  {
   "cell_type": "code",
   "execution_count": null,
   "metadata": {},
   "outputs": [],
   "source": [
    "np.save(\"data/loss\", loss)"
   ]
  },
  {
   "cell_type": "code",
   "execution_count": null,
   "metadata": {},
   "outputs": [],
   "source": [
    "np.savez(\"data/act-pop\", act=sess.run(qact), pop=sess.run(qpop))"
   ]
  },
  {
   "cell_type": "code",
   "execution_count": null,
   "metadata": {},
   "outputs": [],
   "source": [
    "np.savez(\"data/pref-attr\", pref=sess.run(qpref), attr=sess.run(qattr))"
   ]
  },
  {
   "cell_type": "markdown",
   "metadata": {},
   "source": [
    "# Results"
   ]
  },
  {
   "cell_type": "code",
   "execution_count": null,
   "metadata": {},
   "outputs": [],
   "source": [
    "import numpy as np\n",
    "import pandas as pd\n",
    "import seaborn\n",
    "import matplotlib.pyplot as plt"
   ]
  },
  {
   "cell_type": "code",
   "execution_count": null,
   "metadata": {},
   "outputs": [],
   "source": [
    "np.random.seed(42)"
   ]
  },
  {
   "cell_type": "code",
   "execution_count": null,
   "metadata": {},
   "outputs": [],
   "source": [
    "pref_attr = np.load(\"data/pref-attr.npz\")\n",
    "rating = np.loadtxt(\"data/ratings.txt.gz\", dtype=np.float32) # Rating matrix\n",
    "pref = pref_attr[\"pref\"]\n",
    "attr = pref_attr[\"attr\"]\n",
    "k = pref.shape[0]\n",
    "n,m = rating.shape"
   ]
  },
  {
   "cell_type": "code",
   "execution_count": null,
   "metadata": {},
   "outputs": [],
   "source": [
    "print(n,m)"
   ]
  },
  {
   "cell_type": "code",
   "execution_count": null,
   "metadata": {},
   "outputs": [],
   "source": [
    "pref_attr_org = np.load(\"../recsys-hpf-master/data/pref-attr.npz\")\n",
    "rating_org = np.loadtxt(\"../recsys-hpf-master/data/ratings.txt.gz\", dtype=np.float32)\n",
    "pref_org = pref_attr_org[\"pref\"]\n",
    "attr_org = pref_attr_org[\"attr\"]\n",
    "k = pref_org.shape[0]\n",
    "n,m = rating_org.shape\n",
    "print(k,n,m)"
   ]
  },
  {
   "cell_type": "code",
   "execution_count": null,
   "metadata": {},
   "outputs": [],
   "source": [
    "print(np.array_equal(pref, pref_org))\n",
    "print(np.array_equal(attr, attr_org))"
   ]
  },
  {
   "cell_type": "code",
   "execution_count": null,
   "metadata": {},
   "outputs": [],
   "source": [
    "cols = [\"movieID\", \"title\", \"imdbPictureURL\", \"year\", \"genre\"]\n",
    "meta = movies_all[cols]\n",
    "meta.drop_duplicates(inplace=True)\n",
    "meta.sort_values(by=\"movieID\", inplace=True)\n",
    "meta.set_index(\"movieID\", inplace=True)\n",
    "print(meta.shape)\n",
    "meta.head()"
   ]
  },
  {
   "cell_type": "code",
   "execution_count": null,
   "metadata": {},
   "outputs": [],
   "source": [
    "meta_org = pd.read_csv(\"../recsys-hpf-master/data/info.csv.bz2\", index_col=0)\n",
    "meta_org.head()"
   ]
  },
  {
   "cell_type": "code",
   "execution_count": null,
   "metadata": {},
   "outputs": [],
   "source": [
    "pd.concat([meta, meta_org]).drop_duplicates(keep=False).shape[0] == 0"
   ]
  },
  {
   "cell_type": "markdown",
   "metadata": {},
   "source": [
    "## Heatmap"
   ]
  },
  {
   "cell_type": "code",
   "execution_count": null,
   "metadata": {},
   "outputs": [],
   "source": [
    "def heatmap(attr, meta, n=20, lw=0.2, cmap=\"Reds\"):\n",
    "    m = meta.shape[0]\n",
    "    \n",
    "    ids = np.random.randint(m, size=n)\n",
    "    ids = ids[ids<=attr.T.shape[0]]\n",
    "    ids = np.unique(ids)\n",
    "    attr = attr.T[ids]\n",
    "    meta = pd.DataFrame(attr, index=meta.iloc[ids].title)\n",
    "    \n",
    "    fig = plt.figure(figsize=(15,6))\n",
    "    ax = fig.add_subplot(111)\n",
    "    ax = seaborn.heatmap(meta, ax=ax, annot=True, fmt=\".2f\", linewidths=lw, cmap=cmap)\n",
    "    ax.set_xlabel(\"Attributes\")\n",
    "    ax.set_ylabel(\"Title\")\n",
    "    fig.savefig(\"images/heatmap.png\", transparent=True)"
   ]
  },
  {
   "cell_type": "code",
   "execution_count": null,
   "metadata": {},
   "outputs": [],
   "source": [
    "heatmap(attr, meta)"
   ]
  },
  {
   "cell_type": "markdown",
   "metadata": {},
   "source": [
    "## MDS"
   ]
  },
  {
   "cell_type": "code",
   "execution_count": null,
   "metadata": {},
   "outputs": [],
   "source": [
    "def mds(attr, meta, n=20, cmap=\"Dark2\"):\n",
    "    m = meta.shape[0]\n",
    "    tohex = plt.cm.colors.rgb2hex\n",
    "    cmap = plt.cm.get_cmap(cmap)\n",
    "    kwargs = dict(horizontalalignment=\"center\", weight=\"bold\", verticalalignment=\"center\")\n",
    "    line = dict(color=\"grey\", linestyle=\"dashed\")\n",
    "    fig = plt.figure(figsize=(12,5))\n",
    "    #for i in [1,2]: \n",
    "    iy = np.random.randint(k)\n",
    "    ix = iy\n",
    "    while ix == iy:\n",
    "        ix = np.random.randint(k)\n",
    "    ids = np.unique(np.random.randint(m, size=n))\n",
    "    ids = ids[ids<=attr.T.shape[0]]\n",
    "    xs = attr[:,ids][ix]\n",
    "    ys = attr[:,ids][iy]\n",
    "        \n",
    "    text = [meta.iloc[id].title + \" ({y})\".format(y=meta.iloc[id].year) for id in ids]\n",
    "  \n",
    "    ax = fig.add_subplot(1, 1, 1)\n",
    "    color = lambda v: tohex(cmap(v))\n",
    "    c = map(color, xs+ys)\n",
    "    \n",
    "    ax.scatter(xs, ys-0.02, c=list(c), edgecolors=\"white\")\n",
    "    for x,y,s in zip(xs,ys,text):\n",
    "        ax.text(x, y, s, color=tohex(cmap(x+y)), **kwargs)\n",
    "    \n",
    "    v = np.median(xs)\n",
    "    h = np.median(ys)\n",
    "    ax.axvline(v, **line)\n",
    "    ax.axhline(h, **line)\n",
    "    ax.set_ylabel(\"Attribute vector %d\" % iy)\n",
    "    ax.set_xlabel(\"Attribute vector %d\" % ix)\n",
    "    #ax.axis(\"tight\")\n",
    "    \n",
    "    fig.tight_layout()\n",
    "    fig.savefig(\"images/mds.png\", transparent=True)"
   ]
  },
  {
   "cell_type": "code",
   "execution_count": null,
   "metadata": {},
   "outputs": [],
   "source": [
    "mds(attr, meta)"
   ]
  },
  {
   "cell_type": "code",
   "execution_count": null,
   "metadata": {},
   "outputs": [],
   "source": [
    "# Helper functions\n",
    "\n",
    "def plot_on(fig, meta, title, given=None):\n",
    "    \"\"\"\n",
    "    Plot movies on axes.\n",
    "    \n",
    "    Parameters\n",
    "    ==========\n",
    "    axs: Matplotlib Axes.\n",
    "    meta: Movies informations DataFrame.\n",
    "    given: The rating list.\n",
    "    \"\"\"\n",
    "    \n",
    "    from urllib.request import urlopen\n",
    "    from urllib.error import URLError, HTTPError\n",
    "    from PIL import Image\n",
    "    \n",
    "    found = False\n",
    "    for i,ax in enumerate(fig.axes):\n",
    "        try:\n",
    "            url = meta.iloc[i].imdbPictureURL\n",
    "            img = Image.open(urlopen(url))\n",
    "            ax.imshow(img)\n",
    "            found = True\n",
    "        except (URLError, HTTPError, ValueError):\n",
    "            kwargs = dict(horizontalalignment=\"center\", verticalalignment=\"center\")\n",
    "            fontdict = dict(size=15, weight=\"bold\")\n",
    "            x = 0.5 #round(ax.axes.get_xlim()[0]) / 2\n",
    "            y = 150 #round(ax.axes.get_ylim()[1]) / 2\n",
    "            found = False\n",
    "            ax.text(x, y, \"No Picture\", fontdict=fontdict, **kwargs)\n",
    "        \n",
    "        t,y,g = meta.iloc[i].title, meta.iloc[i].year, meta.iloc[i].genre.split(\", \")\n",
    "        g = \"\\n\".join(g)\n",
    "        if given is None:\n",
    "            label = '\"{t}\"\\n{g}\\n({y})'.format(t=t,y=y,g=g)\n",
    "        else:\n",
    "            r =  given[i]\n",
    "            label = '\"{t}\"\\n{g}\\n({y})\\n{r:.1f}'.format(t=t,y=y,g=g,r=r)\n",
    "        \n",
    "        ax.set_xlabel(label)\n",
    "        ax.grid(False)\n",
    "    \n",
    "    fig.suptitle(title, fontsize=15, y=1)\n",
    "    fig.tight_layout()\n",
    "    return fig\n",
    "\n",
    "def rated_by(uid, meta, rating, n=5):\n",
    "    \"\"\"\n",
    "    Show movies rated by a given user.\n",
    "    \n",
    "    Paramters\n",
    "    =========\n",
    "    uid: A user ID (int).\n",
    "    meta: The DataFrame containing informations about movies.\n",
    "    rating: The User-Movie rating matrix.\n",
    "    n: The number of movies to display.\n",
    "    \"\"\"\n",
    "    \n",
    "    rating = rating[uid]\n",
    "    ids = rating.nonzero()[0]\n",
    "    n = n if n <= len(ids) else len(ids)\n",
    "    ids = np.random.choice(ids, size=n, replace=False)\n",
    "    rating = rating[ids]\n",
    "    meta = meta.iloc[ids]\n",
    "    \n",
    "    title = 'Movies rated by user \"{}\"'.format(uid)\n",
    "    \n",
    "    fig,axs = plt.subplots(nrows=1, ncols=n, figsize=(3*n, 6), sharey=True)\n",
    "    fig = plot_on(fig, meta, title, rating)\n",
    "    \n",
    "    fig.savefig(\"images/rated_by.png\", transparent=True)\n",
    "\n",
    "def recommend_to(uid, pref, attr, meta, rating, n=5):\n",
    "    \"\"\"\n",
    "    Show movies recommended to a paticular user.\n",
    "    \n",
    "    Paramters:\n",
    "    ==========\n",
    "    uid: User ID.\n",
    "    pref: Users preferences matrix.\n",
    "    attr: Movies attributes matrix.\n",
    "    meta: Movies info dataframe.\n",
    "    rating: Rating matrix.\n",
    "    \"\"\"\n",
    "    poisson = np.random.poisson\n",
    "    title = 'Movies that user \"{}\" might like'.format(uid)\n",
    "    \n",
    "    # Discard movies already rated by the user,\n",
    "    m = rating.shape[1] # Number of movies.\n",
    "    ids = rating[uid].nonzero()[0] # Rated movies IDs.\n",
    "    ids = np.array([i for i in range(m) if not i in ids]) # Not Rated movies IDs\n",
    "    pref = pref[:, uid] # User preference\n",
    "    attr = attr[:, ids]\n",
    "    \n",
    "    scores = poisson(np.dot(pref, attr))\n",
    "    ids = np.array([i for i in np.argsort(-scores) if i in ids]) # Recommended movies IDs\n",
    "    \n",
    "    meta = meta.iloc[ids]\n",
    "    \n",
    "    fig,axs = plt.subplots(nrows=1, ncols=n, figsize=(3*n, 6), sharey=True)\n",
    "    fig = plot_on(fig, meta, title)\n",
    "    \n",
    "    fig.savefig(\"images/recommend_to.png\", transparent=True)\n",
    "\n",
    "def similar_to(mid, attr, meta, rating, n=5):\n",
    "    \"\"\"\n",
    "    Show movies closer to a given one int the attribute subspace.\n",
    "    \n",
    "    Paramters\n",
    "    =========\n",
    "    mid: Movie ID\n",
    "    attr: Movies attributes matrix.\n",
    "    meta: Movies informations DataFrame.\n",
    "    \"\"\"\n",
    "    norm = np.linalg.norm\n",
    "    r = rating[:, mid]\n",
    "    r = np.median(r[r.nonzero()])\n",
    "    \n",
    "    t,y,g = meta.iloc[mid].title, meta.iloc[mid].year, meta.iloc[mid].genre\n",
    "    title = 'Movies similar to \"{t}\": {g} ({y}) - {r:.1f}*'.format(t=t, y=y, g=g, r=r)\n",
    "    \n",
    "    dist = np.apply_along_axis(norm, 1, attr[:, mid] - attr.T) # Euclidean distance: lower is closer.\n",
    "    ids = np.argsort(dist)[1:n+1] # Discard the movie itselft\n",
    "    meta = meta.iloc[ids]\n",
    "    rating = rating[:, ids]\n",
    "    #total = np.apply_along_axis(np.count_nonzero, 0, rating) # Uncomment this if you want the mean instead\n",
    "    #rating = rating.sum(axis=0) / np.where(total == 0, 1, total) # and comment the two following lines.\n",
    "    rating = np.where(rating == 0, np.nan, rating)\n",
    "    rating = np.nanmedian(rating, axis=0)\n",
    "    \n",
    "    fig,axs = plt.subplots(nrows=1, ncols=n, figsize=(3*n, 6), sharey=True)\n",
    "    fig = plot_on(fig, meta, title, given=rating)\n",
    "    \n",
    "    fig.savefig(\"images/similar_to.png\", transparent=True)"
   ]
  },
  {
   "cell_type": "code",
   "execution_count": null,
   "metadata": {},
   "outputs": [],
   "source": [
    "uid = np.random.randint(n)\n",
    "uid=863"
   ]
  },
  {
   "cell_type": "code",
   "execution_count": null,
   "metadata": {},
   "outputs": [],
   "source": [
    "rated_by(uid, meta, rating)"
   ]
  },
  {
   "cell_type": "code",
   "execution_count": null,
   "metadata": {},
   "outputs": [],
   "source": [
    "recommend_to(uid, pref, attr, meta, rating)"
   ]
  },
  {
   "cell_type": "code",
   "execution_count": null,
   "metadata": {},
   "outputs": [],
   "source": [
    "similar_to(0, attr, meta, rating) # Similar to \"Toy Story\""
   ]
  },
  {
   "cell_type": "code",
   "execution_count": null,
   "metadata": {},
   "outputs": [],
   "source": [
    "def closer_to(mid):\n",
    "    norm = np.linalg.norm\n",
    "    dist = np.apply_along_axis(norm, 1, attr[:, mid] - attr.T) # Euclidean distance: lower is closer.\n",
    "    ids = np.argsort(dist)[:n+1] # Include the movie itselft\n",
    "    dist = dist[ids]\n",
    "    info = meta.iloc[ids]\n",
    "    info[\"distance\"] = dist\n",
    "    return info"
   ]
  },
  {
   "cell_type": "code",
   "execution_count": null,
   "metadata": {},
   "outputs": [],
   "source": [
    "info = closer_to(0) # Toy Story's ID\n",
    "info.head(6)"
   ]
  },
  {
   "cell_type": "code",
   "execution_count": null,
   "metadata": {},
   "outputs": [],
   "source": []
  }
 ],
 "metadata": {
  "kernelspec": {
   "display_name": "Python 3",
   "language": "python",
   "name": "python3"
  },
  "language_info": {
   "codemirror_mode": {
    "name": "ipython",
    "version": 3
   },
   "file_extension": ".py",
   "mimetype": "text/x-python",
   "name": "python",
   "nbconvert_exporter": "python",
   "pygments_lexer": "ipython3",
   "version": "3.6.0"
  }
 },
 "nbformat": 4,
 "nbformat_minor": 2
}
